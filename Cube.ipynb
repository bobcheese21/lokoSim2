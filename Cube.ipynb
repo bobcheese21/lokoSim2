{
 "cells": [
  {
   "cell_type": "code",
   "execution_count": 1,
   "metadata": {},
   "outputs": [
    {
     "name": "stdout",
     "output_type": "stream",
     "text": [
      "pygame 2.0.0.dev12 (SDL 2.0.12, python 3.8.5)\n",
      "Hello from the pygame community. https://www.pygame.org/contribute.html\n"
     ]
    }
   ],
   "source": [
    "import pygame\n",
    "class cube(object):\n",
    "    \n",
    "    \n",
    "    def __init__(self, start, width, rows, color = (0, 0, 0), kind = 0, salinity = 35):\n",
    "        self.w = width\n",
    "        self.rows = rows\n",
    "        self.pos = start \n",
    "        self.color = color\n",
    "        self.kind = kind\n",
    "        self.salinity = salinity\n",
    "        if kind == \"SAND\":\n",
    "            self.salinity = \"SAND\"\n",
    "\n",
    "    \n",
    "    def draw(self,surface, center=False):\n",
    "        dis = (self.w // self.rows) # = 5\n",
    "        i = self.pos[0]\n",
    "        j = self.pos[1]\n",
    "        \n",
    "#         pygame.draw.rect(surface, self.color, (i*dis+1, j*dis+1, dis-2, dis-2))\n",
    "        return pygame.draw.rect(surface, self.color, (i*dis, j*dis, dis, dis))\n",
    "    def sensorQuery(self):\n",
    "        if self.kind == \"WATER\":\n",
    "            return \"Salinity: \", self.salinity\n",
    "        if self.kind == \"SAND\":\n",
    "            return \"Type: Sand\""
   ]
  },
  {
   "cell_type": "code",
   "execution_count": null,
   "metadata": {},
   "outputs": [],
   "source": []
  }
 ],
 "metadata": {
  "kernelspec": {
   "display_name": "Python [conda env:test] *",
   "language": "python",
   "name": "conda-env-test-py"
  },
  "language_info": {
   "codemirror_mode": {
    "name": "ipython",
    "version": 3
   },
   "file_extension": ".py",
   "mimetype": "text/x-python",
   "name": "python",
   "nbconvert_exporter": "python",
   "pygments_lexer": "ipython3",
   "version": "3.8.5"
  }
 },
 "nbformat": 4,
 "nbformat_minor": 4
}
