{
 "cells": [
  {
   "cell_type": "code",
   "execution_count": 1,
   "metadata": {},
   "outputs": [
    {
     "name": "stdout",
     "output_type": "stream",
     "text": [
      "pygame 2.0.0.dev12 (SDL 2.0.12, python 3.8.5)\n",
      "Hello from the pygame community. https://www.pygame.org/contribute.html\n"
     ]
    },
    {
     "name": "stderr",
     "output_type": "stream",
     "text": [
      "/Users/robilin/Desktop/Everything/prettyPM/CritterModel.ipynb:42: FutureWarning: arrays to stack must be passed as a \"sequence\" type such as list or tuple. Support for non-sequence iterables such as generators is deprecated as of NumPy 1.16 and will raise an error in the future.\n",
      "  \"        self.rows = rows\\n\",\n",
      "/Users/robilin/Desktop/Everything/prettyPM/CritterModel.ipynb:46: FutureWarning: arrays to stack must be passed as a \"sequence\" type such as list or tuple. Support for non-sequence iterables such as generators is deprecated as of NumPy 1.16 and will raise an error in the future.\n",
      "  \"        self.tideStatus = [0.00000001, 0] #[-2 : 2]\\n\",\n",
      "/Users/robilin/Desktop/Everything/prettyPM/utils.ipynb:55: FutureWarning: arrays to stack must be passed as a \"sequence\" type such as list or tuple. Support for non-sequence iterables such as generators is deprecated as of NumPy 1.16 and will raise an error in the future.\n",
      "  \"        s = mini.asRGB8()\\n\",\n",
      "/Users/robilin/Desktop/Everything/prettyPM/utils.ipynb:101: FutureWarning: arrays to stack must be passed as a \"sequence\" type such as list or tuple. Support for non-sequence iterables such as generators is deprecated as of NumPy 1.16 and will raise an error in the future.\n",
      "  \"                r = png.Reader(\\\"graphicsPM/{}\\\".format(file))\\n\",\n",
      "/Users/robilin/Desktop/Everything/prettyPM/CritterModel.ipynb:371: FutureWarning: arrays to stack must be passed as a \"sequence\" type such as list or tuple. Support for non-sequence iterables such as generators is deprecated as of NumPy 1.16 and will raise an error in the future.\n",
      "  \"#             rockImage = pygame.transform.scale(rockImage, (40,40))\\n\",\n"
     ]
    },
    {
     "name": "stdout",
     "output_type": "stream",
     "text": [
      "TIDE CHANGING\n",
      "lokoManager curview (0, 0)\n",
      "LOKO MANAGER FPS:  [25]\n",
      "POSS:  (192, 144)\n",
      "makaha selected\n",
      "lokoManager curview (0, 0)\n",
      "LOKO MANAGER FPS:  [25]\n",
      "POSS:  (93, 99)\n"
     ]
    },
    {
     "name": "stderr",
     "output_type": "stream",
     "text": [
      "/Users/robilin/Desktop/Everything/prettyPM/CritterModel.ipynb:258: FutureWarning: arrays to stack must be passed as a \"sequence\" type such as list or tuple. Support for non-sequence iterables such as generators is deprecated as of NumPy 1.16 and will raise an error in the future.\n",
      "  \"        xx = curView[0]\\n\",\n"
     ]
    },
    {
     "ename": "TypeError",
     "evalue": "'dict_keys' object is not subscriptable",
     "output_type": "error",
     "traceback": [
      "\u001b[0;31m---------------------------------------------------------------------------\u001b[0m",
      "\u001b[0;31mTypeError\u001b[0m                                 Traceback (most recent call last)",
      "\u001b[0;32m<ipython-input-1-88b055be5965>\u001b[0m in \u001b[0;36m<module>\u001b[0;34m\u001b[0m\n\u001b[1;32m     80\u001b[0m \u001b[0;34m\u001b[0m\u001b[0m\n\u001b[1;32m     81\u001b[0m \u001b[0;34m\u001b[0m\u001b[0m\n\u001b[0;32m---> 82\u001b[0;31m \u001b[0mmain\u001b[0m\u001b[0;34m(\u001b[0m\u001b[0;34m)\u001b[0m\u001b[0;34m\u001b[0m\u001b[0;34m\u001b[0m\u001b[0m\n\u001b[0m",
      "\u001b[0;32m<ipython-input-1-88b055be5965>\u001b[0m in \u001b[0;36mmain\u001b[0;34m()\u001b[0m\n\u001b[1;32m     76\u001b[0m         \u001b[0mpygame\u001b[0m\u001b[0;34m.\u001b[0m\u001b[0mevent\u001b[0m\u001b[0;34m.\u001b[0m\u001b[0mpump\u001b[0m\u001b[0;34m(\u001b[0m\u001b[0;34m)\u001b[0m\u001b[0;34m\u001b[0m\u001b[0;34m\u001b[0m\u001b[0m\n\u001b[1;32m     77\u001b[0m         \u001b[0mclock\u001b[0m\u001b[0;34m.\u001b[0m\u001b[0mtick\u001b[0m\u001b[0;34m(\u001b[0m\u001b[0;36m60\u001b[0m\u001b[0;34m)\u001b[0m\u001b[0;34m\u001b[0m\u001b[0;34m\u001b[0m\u001b[0m\n\u001b[0;32m---> 78\u001b[0;31m         \u001b[0mredrawWindow\u001b[0m\u001b[0;34m(\u001b[0m\u001b[0mclock\u001b[0m\u001b[0;34m)\u001b[0m\u001b[0;34m\u001b[0m\u001b[0;34m\u001b[0m\u001b[0m\n\u001b[0m\u001b[1;32m     79\u001b[0m     \u001b[0;32mpass\u001b[0m\u001b[0;34m\u001b[0m\u001b[0;34m\u001b[0m\u001b[0m\n\u001b[1;32m     80\u001b[0m \u001b[0;34m\u001b[0m\u001b[0m\n",
      "\u001b[0;32m<ipython-input-1-88b055be5965>\u001b[0m in \u001b[0;36mredrawWindow\u001b[0;34m(clock)\u001b[0m\n\u001b[1;32m     53\u001b[0m     \u001b[0mwin\u001b[0m\u001b[0;34m.\u001b[0m\u001b[0mfill\u001b[0m\u001b[0;34m(\u001b[0m\u001b[0;34m(\u001b[0m\u001b[0;36m255\u001b[0m\u001b[0;34m,\u001b[0m\u001b[0;36m255\u001b[0m\u001b[0;34m,\u001b[0m\u001b[0;36m255\u001b[0m\u001b[0;34m)\u001b[0m\u001b[0;34m)\u001b[0m\u001b[0;34m\u001b[0m\u001b[0;34m\u001b[0m\u001b[0m\n\u001b[1;32m     54\u001b[0m \u001b[0;34m\u001b[0m\u001b[0m\n\u001b[0;32m---> 55\u001b[0;31m     \u001b[0mmm\u001b[0m\u001b[0;34m.\u001b[0m\u001b[0mupdate\u001b[0m\u001b[0;34m(\u001b[0m\u001b[0mwin\u001b[0m\u001b[0;34m,\u001b[0m \u001b[0mclock\u001b[0m\u001b[0;34m)\u001b[0m\u001b[0;34m\u001b[0m\u001b[0;34m\u001b[0m\u001b[0m\n\u001b[0m\u001b[1;32m     56\u001b[0m \u001b[0;34m\u001b[0m\u001b[0m\n\u001b[1;32m     57\u001b[0m     \u001b[0mpygame\u001b[0m\u001b[0;34m.\u001b[0m\u001b[0mdisplay\u001b[0m\u001b[0;34m.\u001b[0m\u001b[0mupdate\u001b[0m\u001b[0;34m(\u001b[0m\u001b[0;34m)\u001b[0m\u001b[0;34m\u001b[0m\u001b[0;34m\u001b[0m\u001b[0m\n",
      "\u001b[0;32m<ipython-input-1-88b055be5965>\u001b[0m in \u001b[0;36mupdate\u001b[0;34m(self, win, clock)\u001b[0m\n\u001b[1;32m     22\u001b[0m     \u001b[0;32mdef\u001b[0m \u001b[0mupdate\u001b[0m\u001b[0;34m(\u001b[0m\u001b[0mself\u001b[0m\u001b[0;34m,\u001b[0m \u001b[0mwin\u001b[0m\u001b[0;34m,\u001b[0m \u001b[0mclock\u001b[0m\u001b[0;34m)\u001b[0m\u001b[0;34m:\u001b[0m\u001b[0;34m\u001b[0m\u001b[0;34m\u001b[0m\u001b[0m\n\u001b[1;32m     23\u001b[0m         \u001b[0;32mif\u001b[0m \u001b[0mself\u001b[0m\u001b[0;34m.\u001b[0m\u001b[0mcurPage\u001b[0m \u001b[0;34m==\u001b[0m \u001b[0;34m\"HeeiaLoko\"\u001b[0m\u001b[0;34m:\u001b[0m\u001b[0;34m\u001b[0m\u001b[0;34m\u001b[0m\u001b[0m\n\u001b[0;32m---> 24\u001b[0;31m             \u001b[0mself\u001b[0m\u001b[0;34m.\u001b[0m\u001b[0mcurPage\u001b[0m \u001b[0;34m=\u001b[0m \u001b[0mLokoGenerator\u001b[0m\u001b[0;34m(\u001b[0m\u001b[0mwin\u001b[0m\u001b[0;34m,\u001b[0m \u001b[0mself\u001b[0m\u001b[0;34m.\u001b[0m\u001b[0mwidth\u001b[0m\u001b[0;34m,\u001b[0m \u001b[0mself\u001b[0m\u001b[0;34m.\u001b[0m\u001b[0mrows\u001b[0m\u001b[0;34m,\u001b[0m \u001b[0mself\u001b[0m\u001b[0;34m.\u001b[0m\u001b[0mpages\u001b[0m\u001b[0;34m,\u001b[0m \u001b[0;34m\"images/loko/HeeiaTideShift.png\"\u001b[0m\u001b[0;34m,\u001b[0m \u001b[0;34m\"images/loko/Heeia.png\"\u001b[0m\u001b[0;34m,\u001b[0m \u001b[0mheeiaManager\u001b[0m\u001b[0;34m,\u001b[0m \u001b[0mclock\u001b[0m\u001b[0;34m)\u001b[0m\u001b[0;34m.\u001b[0m\u001b[0mmainLoop\u001b[0m\u001b[0;34m(\u001b[0m\u001b[0;34m)\u001b[0m\u001b[0;34m\u001b[0m\u001b[0;34m\u001b[0m\u001b[0m\n\u001b[0m\u001b[1;32m     25\u001b[0m         \u001b[0;32mif\u001b[0m \u001b[0mself\u001b[0m\u001b[0;34m.\u001b[0m\u001b[0mcurPage\u001b[0m \u001b[0;34m==\u001b[0m \u001b[0;34m\"WaikaluaLoko\"\u001b[0m\u001b[0;34m:\u001b[0m\u001b[0;34m\u001b[0m\u001b[0;34m\u001b[0m\u001b[0m\n\u001b[1;32m     26\u001b[0m             \u001b[0mself\u001b[0m\u001b[0;34m.\u001b[0m\u001b[0mcurPage\u001b[0m \u001b[0;34m=\u001b[0m \u001b[0mLokoGenerator\u001b[0m\u001b[0;34m(\u001b[0m\u001b[0mwin\u001b[0m\u001b[0;34m,\u001b[0m \u001b[0mself\u001b[0m\u001b[0;34m.\u001b[0m\u001b[0mwidth\u001b[0m\u001b[0;34m,\u001b[0m \u001b[0mself\u001b[0m\u001b[0;34m.\u001b[0m\u001b[0mrows\u001b[0m\u001b[0;34m,\u001b[0m \u001b[0mself\u001b[0m\u001b[0;34m.\u001b[0m\u001b[0mpages\u001b[0m\u001b[0;34m,\u001b[0m \u001b[0;34m\"images/loko/WaikaluaTide.png\"\u001b[0m\u001b[0;34m,\u001b[0m \u001b[0;34m\"images/loko/Waikalua.png\"\u001b[0m\u001b[0;34m,\u001b[0m \u001b[0mwaikaluaManager\u001b[0m\u001b[0;34m,\u001b[0m \u001b[0mclock\u001b[0m\u001b[0;34m)\u001b[0m\u001b[0;34m.\u001b[0m\u001b[0mmainLoop\u001b[0m\u001b[0;34m(\u001b[0m\u001b[0;34m)\u001b[0m\u001b[0;34m\u001b[0m\u001b[0;34m\u001b[0m\u001b[0m\n",
      "\u001b[0;32m~/Desktop/Everything/prettyPM/loko.ipynb\u001b[0m in \u001b[0;36mmainLoop\u001b[0;34m(self)\u001b[0m\n\u001b[1;32m    187\u001b[0m     \u001b[0;34m\"        count = 0\\n\"\u001b[0m\u001b[0;34m,\u001b[0m\u001b[0;34m\u001b[0m\u001b[0;34m\u001b[0m\u001b[0m\n\u001b[1;32m    188\u001b[0m     \u001b[0;34m\"        while self.is_running:\\n\"\u001b[0m\u001b[0;34m,\u001b[0m\u001b[0;34m\u001b[0m\u001b[0;34m\u001b[0m\u001b[0m\n\u001b[0;32m--> 189\u001b[0;31m     \u001b[0;34m\"            for event in pygame.event.get():\\n\"\u001b[0m\u001b[0;34m,\u001b[0m\u001b[0;34m\u001b[0m\u001b[0;34m\u001b[0m\u001b[0m\n\u001b[0m\u001b[1;32m    190\u001b[0m     \u001b[0;34m\"                # --- global events ---\\n\"\u001b[0m\u001b[0;34m,\u001b[0m\u001b[0;34m\u001b[0m\u001b[0;34m\u001b[0m\u001b[0m\n\u001b[1;32m    191\u001b[0m     \u001b[0;34m\"                if event.type == pygame.QUIT:\\n\"\u001b[0m\u001b[0;34m,\u001b[0m\u001b[0;34m\u001b[0m\u001b[0;34m\u001b[0m\u001b[0m\n",
      "\u001b[0;32m~/Desktop/Everything/prettyPM/loko.ipynb\u001b[0m in \u001b[0;36mreDraw\u001b[0;34m(self)\u001b[0m\n\u001b[1;32m    128\u001b[0m     \u001b[0;34m\"\\n\"\u001b[0m\u001b[0;34m,\u001b[0m\u001b[0;34m\u001b[0m\u001b[0;34m\u001b[0m\u001b[0m\n\u001b[1;32m    129\u001b[0m     \u001b[0;34m\"    def reDraw(self):\\n\"\u001b[0m\u001b[0;34m,\u001b[0m\u001b[0;34m\u001b[0m\u001b[0;34m\u001b[0m\u001b[0m\n\u001b[0;32m--> 130\u001b[0;31m     \u001b[0;34m\"        self.surface.fill((255,255,255))\\n\"\u001b[0m\u001b[0;34m,\u001b[0m\u001b[0;34m\u001b[0m\u001b[0;34m\u001b[0m\u001b[0m\n\u001b[0m\u001b[1;32m    131\u001b[0m     \u001b[0;34m\"        for i in self.gm.vp:\\n\"\u001b[0m\u001b[0;34m,\u001b[0m\u001b[0;34m\u001b[0m\u001b[0;34m\u001b[0m\u001b[0m\n\u001b[1;32m    132\u001b[0m     \u001b[0;34m\"            i.draw(self.surface)\\n\"\u001b[0m\u001b[0;34m,\u001b[0m\u001b[0;34m\u001b[0m\u001b[0;34m\u001b[0m\u001b[0m\n",
      "\u001b[0;31mTypeError\u001b[0m: 'dict_keys' object is not subscriptable"
     ]
    }
   ],
   "source": [
    "import pickle\n",
    "from ipynb.fs.full.pages import Heeia, Waikalua, home\n",
    "from ipynb.fs.full.utils import util\n",
    "from ipynb.fs.full.loko import LokoGenerator\n",
    "from ipynb.fs.full.lokoManager import heeiaManager\n",
    "from ipynb.fs.full.lokoManager import waikaluaManager\n",
    "\n",
    "class metaManager:\n",
    "    \n",
    "    def __init__(self, width, rows, win):\n",
    "        self.width = width\n",
    "        self.rows = rows\n",
    "#         self.win = win\n",
    "        self.curScreen = \"Home\"\n",
    "        self.data = None\n",
    "        self.lokoShowing = False\n",
    "        self.pages = {\"Home\" : home, \"Heeia\": Heeia, \"Waikalua\": Waikalua}\n",
    "#         self.curPage = home\n",
    "        self.curPage = home\n",
    "        \n",
    "\n",
    "    def update(self, win, clock):\n",
    "        if self.curPage == \"HeeiaLoko\":\n",
    "            self.curPage = LokoGenerator(win, self.width, self.rows, self.pages, \"images/loko/HeeiaTideShift.png\", \"images/loko/Heeia.png\", heeiaManager, clock).mainLoop()\n",
    "        if self.curPage == \"WaikaluaLoko\":\n",
    "            self.curPage = LokoGenerator(win, self.width, self.rows, self.pages, \"images/loko/WaikaluaTide.png\", \"images/loko/Waikalua.png\", waikaluaManager, clock).mainLoop()\n",
    "        else:\n",
    "            self.curPage = self.curPage(win, self.width, self.rows, self.pages).mainLoop()\n",
    "            util.save_object(self, \"mm.pkl\")\n",
    "        pass\n",
    "\n",
    "    \n",
    "\n",
    "import pygame\n",
    "from ipynb.fs.full.Cube import cube\n",
    "from ipynb.fs.full.utils import util\n",
    "\n",
    "import png\n",
    "import numpy as np\n",
    "import pickle\n",
    "\n",
    "import copy\n",
    "import random as rand\n",
    "import os.path\n",
    "from os import path\n",
    "\n",
    "\n",
    "pygame.init()\n",
    "\n",
    "\n",
    "def redrawWindow(clock):\n",
    "    global rows, width, win, mm\n",
    "    win.fill((255,255,255))\n",
    "\n",
    "    mm.update(win, clock)\n",
    "    \n",
    "    pygame.display.update()\n",
    "    \n",
    "\n",
    "        \n",
    "def main():\n",
    "    global width, rows, win, mm\n",
    "    width = 1000\n",
    "    rows = 200\n",
    "    win = pygame.display.set_mode((width, width))\n",
    "    clock = pygame.time.Clock()\n",
    "    flag = True\n",
    "    if path.exists(\"mm.pkl\"):\n",
    "        with open('mm.pkl', 'rb') as input:\n",
    "            mm = pickle.load(input)\n",
    "#         mm = metaManager(width, rows, win)\n",
    "\n",
    "    else:\n",
    "        mm = metaManager(width, rows, win)\n",
    "    while flag:\n",
    "        pygame.event.pump()\n",
    "        clock.tick(60)\n",
    "        redrawWindow(clock)\n",
    "    pass\n",
    "\n",
    "\n",
    "main()"
   ]
  },
  {
   "cell_type": "code",
   "execution_count": null,
   "metadata": {},
   "outputs": [],
   "source": [
    "204"
   ]
  },
  {
   "cell_type": "code",
   "execution_count": null,
   "metadata": {},
   "outputs": [],
   "source": [
    "\n",
    "\n",
    "\n",
    "\n",
    "\n"
   ]
  },
  {
   "cell_type": "code",
   "execution_count": null,
   "metadata": {},
   "outputs": [],
   "source": []
  }
 ],
 "metadata": {
  "kernelspec": {
   "display_name": "Python [conda env:test] *",
   "language": "python",
   "name": "conda-env-test-py"
  },
  "language_info": {
   "codemirror_mode": {
    "name": "ipython",
    "version": 3
   },
   "file_extension": ".py",
   "mimetype": "text/x-python",
   "name": "python",
   "nbconvert_exporter": "python",
   "pygments_lexer": "ipython3",
   "version": "3.8.5"
  }
 },
 "nbformat": 4,
 "nbformat_minor": 4
}
